{
  "cells": [
    {
      "cell_type": "code",
      "execution_count": 22,
      "metadata": {
        "id": "TomyCQ5dYDRh"
      },
      "outputs": [],
      "source": [
        "#<start>only for colab users"
      ]
    },
    {
      "cell_type": "code",
      "execution_count": 23,
      "metadata": {
        "id": "ezAF7R8mYDRl",
        "outputId": "17530e59-5a32-4cd1-88ee-7c17299df513",
        "colab": {
          "base_uri": "https://localhost:8080/"
        }
      },
      "outputs": [
        {
          "output_type": "stream",
          "name": "stdout",
          "text": [
            "Requirement already satisfied: mtcnn in /usr/local/lib/python3.7/dist-packages (0.1.1)\n",
            "Requirement already satisfied: keras>=2.0.0 in /usr/local/lib/python3.7/dist-packages (from mtcnn) (2.8.0)\n",
            "Requirement already satisfied: opencv-python>=4.1.0 in /usr/local/lib/python3.7/dist-packages (from mtcnn) (4.1.2.30)\n",
            "Requirement already satisfied: numpy>=1.14.5 in /usr/local/lib/python3.7/dist-packages (from opencv-python>=4.1.0->mtcnn) (1.21.6)\n"
          ]
        }
      ],
      "source": [
        "!pip install mtcnn"
      ]
    },
    {
      "cell_type": "code",
      "execution_count": null,
      "metadata": {
        "id": "F4GtSSiLYDRm"
      },
      "outputs": [],
      "source": [
        "!mkdir images"
      ]
    },
    {
      "cell_type": "code",
      "execution_count": 25,
      "metadata": {
        "id": "mRZ6PTf0YDRo",
        "outputId": "4d238e0a-e79b-45e6-89f2-29add973b6cb",
        "colab": {
          "base_uri": "https://localhost:8080/"
        }
      },
      "outputs": [
        {
          "output_type": "stream",
          "name": "stdout",
          "text": [
            "--2022-05-15 15:41:42--  https://github.com/freddy281191/TBKLPLPML/tree/main/images/alireza.jpg\n",
            "Resolving github.com (github.com)... 140.82.121.3\n",
            "Connecting to github.com (github.com)|140.82.121.3|:443... connected.\n",
            "HTTP request sent, awaiting response... 301 Moved Permanently\n",
            "Location: https://github.com/freddy281191/TBKLPLPML/blob/main/images/alireza.jpg [following]\n",
            "--2022-05-15 15:41:42--  https://github.com/freddy281191/TBKLPLPML/blob/main/images/alireza.jpg\n",
            "Reusing existing connection to github.com:443.\n",
            "HTTP request sent, awaiting response... 200 OK\n",
            "Length: unspecified [text/html]\n",
            "Saving to: ‘images/alireza.jpg.1’\n",
            "\n",
            "alireza.jpg.1           [ <=>                ] 121.82K  --.-KB/s    in 0.03s   \n",
            "\n",
            "2022-05-15 15:41:42 (4.30 MB/s) - ‘images/alireza.jpg.1’ saved [124745]\n",
            "\n",
            "--2022-05-15 15:41:43--  https://github.com/freddy281191/TBKLPLPML/tree/main/images/ali.jpg\n",
            "Resolving github.com (github.com)... 140.82.121.4\n",
            "Connecting to github.com (github.com)|140.82.121.4|:443... connected.\n",
            "HTTP request sent, awaiting response... 301 Moved Permanently\n",
            "Location: https://github.com/freddy281191/TBKLPLPML/blob/main/images/ali.jpg [following]\n",
            "--2022-05-15 15:41:43--  https://github.com/freddy281191/TBKLPLPML/blob/main/images/ali.jpg\n",
            "Reusing existing connection to github.com:443.\n",
            "HTTP request sent, awaiting response... 200 OK\n",
            "Length: unspecified [text/html]\n",
            "Saving to: ‘images/ali.jpg.1’\n",
            "\n",
            "ali.jpg.1               [ <=>                ] 121.61K  --.-KB/s    in 0.03s   \n",
            "\n",
            "2022-05-15 15:41:43 (4.40 MB/s) - ‘images/ali.jpg.1’ saved [124529]\n",
            "\n",
            "--2022-05-15 15:41:43--  https://github.com/freddy281191/TBKLPLPML/tree/main/images/mohsen.jpg\n",
            "Resolving github.com (github.com)... 140.82.121.4\n",
            "Connecting to github.com (github.com)|140.82.121.4|:443... connected.\n",
            "HTTP request sent, awaiting response... 301 Moved Permanently\n",
            "Location: https://github.com/freddy281191/TBKLPLPML/blob/main/images/mohsen.jpg [following]\n",
            "--2022-05-15 15:41:43--  https://github.com/freddy281191/TBKLPLPML/blob/main/images/mohsen.jpg\n",
            "Reusing existing connection to github.com:443.\n",
            "HTTP request sent, awaiting response... 200 OK\n",
            "Length: unspecified [text/html]\n",
            "Saving to: ‘images/mohsen.jpg.1’\n",
            "\n",
            "mohsen.jpg.1            [ <=>                ] 121.77K  --.-KB/s    in 0.03s   \n",
            "\n",
            "2022-05-15 15:41:43 (4.74 MB/s) - ‘images/mohsen.jpg.1’ saved [124691]\n",
            "\n",
            "--2022-05-15 15:41:44--  https://github.com/freddy281191/TBKLPLPML/tree/main/images/muhammad.jpg\n",
            "Resolving github.com (github.com)... 140.82.121.4\n",
            "Connecting to github.com (github.com)|140.82.121.4|:443... connected.\n",
            "HTTP request sent, awaiting response... 301 Moved Permanently\n",
            "Location: https://github.com/freddy281191/TBKLPLPML/blob/main/images/muhammad.jpg [following]\n",
            "--2022-05-15 15:41:44--  https://github.com/freddy281191/TBKLPLPML/blob/main/images/muhammad.jpg\n",
            "Reusing existing connection to github.com:443.\n",
            "HTTP request sent, awaiting response... 200 OK\n",
            "Length: unspecified [text/html]\n",
            "Saving to: ‘images/muhammad.jpg.1’\n",
            "\n",
            "muhammad.jpg.1          [ <=>                ] 121.87K  --.-KB/s    in 0.03s   \n",
            "\n",
            "2022-05-15 15:41:44 (4.65 MB/s) - ‘images/muhammad.jpg.1’ saved [124799]\n",
            "\n",
            "--2022-05-15 15:41:44--  https://github.com/freddy281191/TBKLPLPML/tree/main/images/1.jpg\n",
            "Resolving github.com (github.com)... 140.82.121.4\n",
            "Connecting to github.com (github.com)|140.82.121.4|:443... connected.\n",
            "HTTP request sent, awaiting response... 301 Moved Permanently\n",
            "Location: https://github.com/freddy281191/TBKLPLPML/blob/main/images/1.jpg [following]\n",
            "--2022-05-15 15:41:44--  https://github.com/freddy281191/TBKLPLPML/blob/main/images/1.jpg\n",
            "Reusing existing connection to github.com:443.\n",
            "HTTP request sent, awaiting response... 200 OK\n",
            "Length: unspecified [text/html]\n",
            "Saving to: ‘images/1.jpg.1’\n",
            "\n",
            "1.jpg.1                 [ <=>                ] 121.50K  --.-KB/s    in 0.03s   \n",
            "\n",
            "2022-05-15 15:41:45 (4.52 MB/s) - ‘images/1.jpg.1’ saved [124421]\n",
            "\n",
            "--2022-05-15 15:41:45--  https://github.com/freddy281191/TBKLPLPML/tree/main/images/srttu-class.png\n",
            "Resolving github.com (github.com)... 140.82.121.4\n",
            "Connecting to github.com (github.com)|140.82.121.4|:443... connected.\n",
            "HTTP request sent, awaiting response... 301 Moved Permanently\n",
            "Location: https://github.com/freddy281191/TBKLPLPML/blob/main/images/srttu-class.png [following]\n",
            "--2022-05-15 15:41:45--  https://github.com/freddy281191/TBKLPLPML/blob/main/images/srttu-class.png\n",
            "Reusing existing connection to github.com:443.\n",
            "HTTP request sent, awaiting response... 200 OK\n",
            "Length: unspecified [text/html]\n",
            "Saving to: ‘images/srttu-class.png.1’\n",
            "\n",
            "srttu-class.png.1       [ <=>                ] 122.03K  --.-KB/s    in 0.03s   \n",
            "\n",
            "2022-05-15 15:41:45 (4.61 MB/s) - ‘images/srttu-class.png.1’ saved [124961]\n",
            "\n",
            "--2022-05-15 15:41:45--  https://github.com/freddy281191/TBKLPLPML/tree/main/images/m_wrapped.png\n",
            "Resolving github.com (github.com)... 140.82.121.4\n",
            "Connecting to github.com (github.com)|140.82.121.4|:443... connected.\n",
            "HTTP request sent, awaiting response... 404 Not Found\n",
            "2022-05-15 15:41:46 ERROR 404: Not Found.\n",
            "\n"
          ]
        }
      ],
      "source": [
        "!wget https://github.com/freddy281191/TBKLPLPML/tree/main/images/alireza.jpg -P images\n",
        "!wget https://github.com/freddy281191/TBKLPLPML/tree/main/images/ali.jpg -P images\n",
        "!wget https://github.com/freddy281191/TBKLPLPML/tree/main/images/mohsen.jpg -P images\n",
        "!wget https://github.com/freddy281191/TBKLPLPML/tree/main/images/muhammad.jpg -P images\n",
        "!wget https://github.com/freddy281191/TBKLPLPML/tree/main/images/1.jpg -P images\n",
        "!wget https://github.com/freddy281191/TBKLPLPML/tree/main/images/srttu-class.png -P images\n",
        "!wget https://github.com/freddy281191/TBKLPLPML/tree/main/images/m_wrapped.png -P images"
      ]
    },
    {
      "cell_type": "code",
      "execution_count": 26,
      "metadata": {
        "id": "PUajQ9NyYDRp",
        "outputId": "8515c734-7047-4e3a-9392-ab92c1ca25d5",
        "colab": {
          "base_uri": "https://localhost:8080/"
        }
      },
      "outputs": [
        {
          "output_type": "stream",
          "name": "stdout",
          "text": [
            "--2022-05-15 15:41:52--  https://raw.githubusercontent.com/Alireza-Akhavan/deep-face-recognition/master/ArcFace.py\n",
            "Resolving raw.githubusercontent.com (raw.githubusercontent.com)... 185.199.108.133, 185.199.109.133, 185.199.110.133, ...\n",
            "Connecting to raw.githubusercontent.com (raw.githubusercontent.com)|185.199.108.133|:443... connected.\n",
            "HTTP request sent, awaiting response... 200 OK\n",
            "Length: 4043 (3.9K) [text/plain]\n",
            "Saving to: ‘ArcFace.py.1’\n",
            "\n",
            "\rArcFace.py.1          0%[                    ]       0  --.-KB/s               \rArcFace.py.1        100%[===================>]   3.95K  --.-KB/s    in 0s      \n",
            "\n",
            "2022-05-15 15:41:52 (67.8 MB/s) - ‘ArcFace.py.1’ saved [4043/4043]\n",
            "\n"
          ]
        }
      ],
      "source": [
        "!wget https://raw.githubusercontent.com/Alireza-Akhavan/deep-face-recognition/master/ArcFace.py"
      ]
    },
    {
      "cell_type": "code",
      "execution_count": 27,
      "metadata": {
        "id": "jEBXtS_ZYDRp"
      },
      "outputs": [],
      "source": [
        "#<end>only for colab users"
      ]
    },
    {
      "cell_type": "code",
      "execution_count": 28,
      "metadata": {
        "id": "PpeWy85wYDRq"
      },
      "outputs": [],
      "source": [
        "import ArcFace\n",
        "from mtcnn.mtcnn import MTCNN\n",
        "import matplotlib.pyplot as plt\n",
        "import cv2\n",
        "from tensorflow.keras.preprocessing import image\n",
        "import numpy as np\n",
        "%matplotlib inline"
      ]
    },
    {
      "cell_type": "code",
      "execution_count": 29,
      "metadata": {
        "id": "ZRGNOsU2YDRs"
      },
      "outputs": [],
      "source": [
        "model = ArcFace.loadModel()\n",
        "face_detector = MTCNN()"
      ]
    },
    {
      "cell_type": "code",
      "execution_count": 30,
      "metadata": {
        "id": "OT-TG_CxYDRs"
      },
      "outputs": [],
      "source": [
        "def detect_face(img):\n",
        "    img_rgb = cv2.cvtColor(img, cv2.COLOR_BGR2RGB) #mtcnn expects RGB but OpenCV read BGR\n",
        "    detections = face_detector.detect_faces(img_rgb)\n",
        "    detection = detections[0]\n",
        "    x, y, w, h = detection[\"box\"]\n",
        "    detected_face = img[int(y):int(y+h), int(x):int(x+w)]\n",
        "    return detected_face"
      ]
    },
    {
      "cell_type": "code",
      "execution_count": 31,
      "metadata": {
        "id": "lr_be_AnYDRt"
      },
      "outputs": [],
      "source": [
        "def preprocess_face(img, target_size=(112,112)):\n",
        "    img = cv2.imread(img)\n",
        "    img = detect_face(img)\n",
        "    img = cv2.resize(img, target_size)\n",
        "    img_pixels = image.img_to_array(img)\n",
        "    img_pixels = np.expand_dims(img_pixels, axis = 0)\n",
        "    img_pixels /= 255 #normalize input in [0, 1]\n",
        "    return img_pixels"
      ]
    },
    {
      "cell_type": "code",
      "execution_count": 32,
      "metadata": {
        "id": "LWBBYsZtYDRu"
      },
      "outputs": [],
      "source": [
        "def img_to_encoding(path):\n",
        "    img = preprocess_face(path)\n",
        "    return model.predict(img)[0]"
      ]
    },
    {
      "cell_type": "code",
      "execution_count": 33,
      "metadata": {
        "id": "qPqM_V4pYDRu"
      },
      "outputs": [],
      "source": [
        "database = {}\n",
        "\n",
        "database[\"alireza\"] = img_to_encoding(\"./images/alireza.jpg\")\n",
        "database[\"ali\"] = img_to_encoding(\"./images/ali.jpg\")\n",
        "database[\"mohsen\"] = img_to_encoding(\"./images/mohsen.jpg\")\n",
        "database[\"muhammad\"] = img_to_encoding(\"./images/muhammad.jpg\")"
      ]
    },
    {
      "cell_type": "code",
      "execution_count": 34,
      "metadata": {
        "id": "tahp5fVtYDRv"
      },
      "outputs": [],
      "source": [
        "def EuclideanDistance(source_representation, test_representation):\n",
        "    euclidean_distance = source_representation - test_representation\n",
        "    euclidean_distance = np.sum(np.multiply(euclidean_distance, euclidean_distance))\n",
        "    euclidean_distance = np.sqrt(euclidean_distance)\n",
        "    return euclidean_distance"
      ]
    },
    {
      "cell_type": "code",
      "execution_count": 35,
      "metadata": {
        "id": "oJKUqfqXYDRv"
      },
      "outputs": [],
      "source": [
        "verification_threshhold = 4.4"
      ]
    },
    {
      "cell_type": "markdown",
      "metadata": {
        "id": "_NdVPgxGYDRw"
      },
      "source": [
        "## Face Verification"
      ]
    },
    {
      "cell_type": "code",
      "execution_count": 37,
      "metadata": {
        "id": "BZmconc2YDRx"
      },
      "outputs": [],
      "source": [
        "def verify(image_path, identity, database):\n",
        "    # Step 1: Compute the encoding for the image. Use img_to_encoding()\n",
        "    encoding = img_to_encoding(image_path) \n",
        "    \n",
        "    # Step 2: Compute distance with identity's image\n",
        "    dist = EuclideanDistance(encoding, database[identity])\n",
        "    \n",
        "    # Step 3: Open the door if dist < verification_threshhold, else don't open\n",
        "    if dist < verification_threshhold:\n",
        "        print(\"It's \" + str(identity) + \", welcome!\")\n",
        "    else:\n",
        "        print(\"It's not \" + str(identity) + \", please go away\")\n",
        "             \n",
        "    return dist"
      ]
    },
    {
      "cell_type": "markdown",
      "metadata": {
        "id": "CPK1TcAAYDRz"
      },
      "source": [
        "<img src='https://github.com/Alireza-Akhavan/deep-face-recognition/blob/master/images/1.jpg?raw=1' style=\"width: 100px;\"><img src='https://github.com/Alireza-Akhavan/deep-face-recognition/blob/master/images/alireza.jpg?raw=1' style=\"width: 100px;\">"
      ]
    },
    {
      "cell_type": "code",
      "execution_count": 38,
      "metadata": {
        "id": "KDpKnjdKYDRz",
        "outputId": "6892b31c-d8dd-4d93-a5b0-3b2ba7ea8522",
        "colab": {
          "base_uri": "https://localhost:8080/"
        }
      },
      "outputs": [
        {
          "output_type": "stream",
          "name": "stdout",
          "text": [
            "It's alireza, welcome!\n"
          ]
        },
        {
          "output_type": "execute_result",
          "data": {
            "text/plain": [
              "3.3223248"
            ]
          },
          "metadata": {},
          "execution_count": 38
        }
      ],
      "source": [
        "verify(\"images/1.jpg\", \"alireza\", database)"
      ]
    },
    {
      "cell_type": "markdown",
      "metadata": {
        "id": "7lRPtGbvYDR0"
      },
      "source": [
        "<img src='https://github.com/Alireza-Akhavan/deep-face-recognition/blob/master/images/ali.jpg?raw=1' style=\"width: 100px;\"><img src='https://github.com/Alireza-Akhavan/deep-face-recognition/blob/master/images/alireza.jpg?raw=1' style=\"width: 100px;\">"
      ]
    },
    {
      "cell_type": "code",
      "execution_count": null,
      "metadata": {
        "id": "eoIUUNcdYDR0",
        "outputId": "4b35256c-b73f-4380-d171-7665e6a2bc47"
      },
      "outputs": [
        {
          "name": "stdout",
          "output_type": "stream",
          "text": [
            "It's not alireza, please go away\n"
          ]
        },
        {
          "data": {
            "text/plain": [
              "4.855377"
            ]
          },
          "execution_count": 13,
          "metadata": {},
          "output_type": "execute_result"
        }
      ],
      "source": [
        "verify(\"images/ali.jpg\", \"alireza\", database)"
      ]
    },
    {
      "cell_type": "markdown",
      "metadata": {
        "id": "f_uzjuPnYDR1"
      },
      "source": [
        "## Face Identification"
      ]
    },
    {
      "cell_type": "code",
      "execution_count": null,
      "metadata": {
        "id": "4qQ2t9sPYDR1"
      },
      "outputs": [],
      "source": [
        "def who_is_it(image_path, database):\n",
        "   \n",
        "    ## Step 1: Compute the target \"encoding\" for the image. Use img_to_encoding()\n",
        "    encoding = img_to_encoding(image_path)\n",
        "    \n",
        "    ## Step 2: Find the closest encoding ##\n",
        "    \n",
        "    # Initialize \"min_dist\" to a large value, say 100 \n",
        "    min_dist = 1000\n",
        "    # Loop over the database dictionary's names and encodings.\n",
        "    for (name, db_enc) in database.items():\n",
        "        # Compute L2 distance between the target \"encoding\" and the current \"emb\" from the database. (≈ 1 line)\n",
        "        dist = EuclideanDistance(encoding, db_enc)\n",
        "\n",
        "        # If this distance is less than the min_dist, then set min_dist to dist, and identity to name. (≈ 3 lines)\n",
        "        if min_dist > dist:\n",
        "            min_dist = dist\n",
        "            identity = name\n",
        "\n",
        "  \n",
        "    if min_dist > verification_threshhold:\n",
        "        print(\"Not in the database.\")\n",
        "    else:\n",
        "        print (\"it's \" + str(identity) + \", the distance is \" + str(min_dist))\n",
        "        \n",
        "    return min_dist, identity"
      ]
    },
    {
      "cell_type": "markdown",
      "metadata": {
        "id": "GZPhuvuiYDR2"
      },
      "source": [
        "<img src='https://github.com/Alireza-Akhavan/deep-face-recognition/blob/master/images/srttu-class.png?raw=1' style=\"width: 300px;\">"
      ]
    },
    {
      "cell_type": "code",
      "execution_count": null,
      "metadata": {
        "id": "0Qyo37c0YDR2",
        "outputId": "4ebd01c8-e16a-421f-be50-6492a366da9b"
      },
      "outputs": [
        {
          "name": "stdout",
          "output_type": "stream",
          "text": [
            "it's alireza, the distance is 3.835887\n"
          ]
        },
        {
          "data": {
            "text/plain": [
              "(3.835887, 'alireza')"
            ]
          },
          "execution_count": 16,
          "metadata": {},
          "output_type": "execute_result"
        }
      ],
      "source": [
        "who_is_it(\"images/srttu-class.png\", database)"
      ]
    },
    {
      "cell_type": "markdown",
      "metadata": {
        "id": "KiYPYk4QYDR2"
      },
      "source": [
        "<img src='https://github.com/Alireza-Akhavan/deep-face-recognition/blob/master/images/m.jpg?raw=1' style=\"width: 160px;\">"
      ]
    },
    {
      "cell_type": "code",
      "execution_count": null,
      "metadata": {
        "id": "Iyqcwt3RYDR3",
        "outputId": "a4408fb5-5624-4b17-9136-290c37b8f4cf"
      },
      "outputs": [
        {
          "name": "stdout",
          "output_type": "stream",
          "text": [
            "Not in the database.\n"
          ]
        },
        {
          "data": {
            "text/plain": [
              "(11.598342, 'alireza')"
            ]
          },
          "execution_count": 18,
          "metadata": {},
          "output_type": "execute_result"
        }
      ],
      "source": [
        "who_is_it(\"images/m.jpg\", database)"
      ]
    },
    {
      "cell_type": "markdown",
      "metadata": {
        "id": "axW97DrdYDR3"
      },
      "source": [
        "<img src='https://github.com/Alireza-Akhavan/deep-face-recognition/blob/master/images/m_wrapped.jpg?raw=1' style=\"width: 160px;\">"
      ]
    },
    {
      "cell_type": "code",
      "execution_count": null,
      "metadata": {
        "id": "br6cWJydYDR3",
        "outputId": "c504c07b-3729-48a9-c702-a4be33ed5131"
      },
      "outputs": [
        {
          "name": "stdout",
          "output_type": "stream",
          "text": [
            "it's mohsen, the distance is 4.3644657\n"
          ]
        },
        {
          "data": {
            "text/plain": [
              "(4.3644657, 'mohsen')"
            ]
          },
          "execution_count": 24,
          "metadata": {},
          "output_type": "execute_result"
        }
      ],
      "source": [
        "who_is_it(\"images/m_wrapped.jpg\", database)"
      ]
    }
  ],
  "metadata": {
    "kernelspec": {
      "display_name": "tf2",
      "language": "python",
      "name": "tf2"
    },
    "language_info": {
      "codemirror_mode": {
        "name": "ipython",
        "version": 3
      },
      "file_extension": ".py",
      "mimetype": "text/x-python",
      "name": "python",
      "nbconvert_exporter": "python",
      "pygments_lexer": "ipython3",
      "version": "3.7.9"
    },
    "colab": {
      "name": "6-FaceRecognition-verification&Identification.ipynb",
      "provenance": []
    }
  },
  "nbformat": 4,
  "nbformat_minor": 0
}